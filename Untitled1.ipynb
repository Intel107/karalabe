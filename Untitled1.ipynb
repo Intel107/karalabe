{
 "metadata": {
  "name": "",
  "signature": "sha256:6725c14ef7f435ea2774a044418ca713418e62d07dd330546c4b5406e9dbae8d"
 },
 "nbformat": 3,
 "nbformat_minor": 0,
 "worksheets": [
  {
   "cells": [
    {
     "cell_type": "markdown",
     "metadata": {},
     "source": [
      "#GIT GYORSTALPAL\u00d3\n",
      "by: T\u00f3th Arnold"
     ]
    },
    {
     "cell_type": "markdown",
     "metadata": {},
     "source": [
      "Felhaszn\u00e1l\u00f3n\u00e9v/e-mail be\u00e1ll\u00edt\u00e1s:"
     ]
    },
    {
     "cell_type": "code",
     "collapsed": false,
     "input": [
      "!git config --global user.name \"Arnold T\u00f3th\""
     ],
     "language": "python",
     "metadata": {},
     "outputs": [],
     "prompt_number": 2
    },
    {
     "cell_type": "code",
     "collapsed": false,
     "input": [
      "!git config --global user.email \"askywalker.22@gmail.com\""
     ],
     "language": "python",
     "metadata": {},
     "outputs": [],
     "prompt_number": 3
    },
    {
     "cell_type": "markdown",
     "metadata": {},
     "source": [
      "ezut\u00e1n egy Git adatb\u00e1zist szeretn\u00e9nk l\u00e9trehozni (inicializ\u00e1lni). \n",
      "Praktikus bel\u00e9pni egy k\u00f6nyvt\u00e1rba, amiben dolgozni szeretn\u00e9nk"
     ]
    },
    {
     "cell_type": "code",
     "collapsed": false,
     "input": [
      "!git init"
     ],
     "language": "python",
     "metadata": {},
     "outputs": [
      {
       "output_type": "stream",
       "stream": "stdout",
       "text": [
        "Initialized empty Git repository in /home/totha/.git/\r\n"
       ]
      }
     ],
     "prompt_number": 4
    },
    {
     "cell_type": "markdown",
     "metadata": {},
     "source": [
      "ez csin\u00e1l a k\u00f6nyvt\u00e1runkban egy rejtett .git mapp\u00e1t (adatb\u00e1zist)"
     ]
    },
    {
     "cell_type": "markdown",
     "metadata": {},
     "source": [
      "ide bem\u00e1solni dolgokat a *git clone felhaszn@szerver.xy/valami* paranccsal tudunk"
     ]
    },
    {
     "cell_type": "code",
     "collapsed": false,
     "input": [
      "!git clone https://github.com/Intel107/ansible.git"
     ],
     "language": "python",
     "metadata": {},
     "outputs": [
      {
       "output_type": "stream",
       "stream": "stdout",
       "text": [
        "Cloning into 'ansible'...\r\n"
       ]
      },
      {
       "output_type": "stream",
       "stream": "stdout",
       "text": [
        "remote: Counting objects: 9, done.\u001b[K\r\n",
        "remote: Compressing objects:  14% (1/7)   \u001b[K\r",
        "remote: Compressing objects:  28% (2/7)   \u001b[K\r",
        "remote: Compressing objects:  42% (3/7)   \u001b[K\r",
        "remote: Compressing objects:  57% (4/7)   \u001b[K\r",
        "remote: Compressing objects:  71% (5/7)   \u001b[K\r",
        "remote: Compressing objects:  85% (6/7)   \u001b[K\r",
        "remote: Compressing objects: 100% (7/7)   \u001b[K\r",
        "remote: Compressing objects: 100% (7/7), done.\u001b[K\r\n"
       ]
      },
      {
       "output_type": "stream",
       "stream": "stdout",
       "text": [
        "remote: Total 9 (delta 1), reused 0 (delta 0), pack-reused 0\u001b[K\r\n",
        "Unpacking objects:  11% (1/9)   \r",
        "Unpacking objects:  22% (2/9)   \r",
        "Unpacking objects:  33% (3/9)   \r",
        "Unpacking objects:  44% (4/9)   \r",
        "Unpacking objects:  55% (5/9)   \r",
        "Unpacking objects:  66% (6/9)   \r",
        "Unpacking objects:  77% (7/9)   \r",
        "Unpacking objects:  88% (8/9)   \r",
        "Unpacking objects: 100% (9/9)   \r",
        "Unpacking objects: 100% (9/9), done.\r\n",
        "Checking connectivity... done.\r\n"
       ]
      }
     ],
     "prompt_number": 5
    },
    {
     "cell_type": "markdown",
     "metadata": {},
     "source": [
      "Miut\u00e1n befejezt\u00fck a k\u00edv\u00e1nt m\u00f3dos\u00edt\u00e1sokat a *git add .* paranccsal tudjuk a git \"figyelm\u00e9be aj\u00e1nlani\" a f\u00e1jlokat. Ezut\u00e1n ellen\u0151rzi, mik v\u00e1ltoztak, majd megjel\u00f6li nek\u00fcnk felt\u00f6ltend\u0151nek. Ezeket a v\u00e1ltoz\u00e1sokat a *git commit* parancs \u00f6sszegzi, ide tudunk megjegyz\u00e9seket \u00edrni, pl arr\u00f3l, mit \u00edrtunk bele az el\u0151z\u0151 commit \u00f3ta, majd a *git push*-al t\u00f6ltj\u00fck fel a k\u00e9sz projektet. Ha nem tetszik a git \u00e1ltal feldobott sz\u00f6vegszerkeszt\u0151 (mert pl a *vi*-t dobja fel), akkor ezt a *git config --global core.editor nano* paranccsal tudjuk lecser\u00e9lni "
     ]
    },
    {
     "cell_type": "code",
     "collapsed": false,
     "input": [
      "!git config --global core.editor nano"
     ],
     "language": "python",
     "metadata": {},
     "outputs": [],
     "prompt_number": 6
    },
    {
     "cell_type": "code",
     "collapsed": true,
     "input": [
      "!git add ."
     ],
     "language": "python",
     "metadata": {},
     "outputs": [
      {
       "output_type": "stream",
       "stream": "stdout",
       "text": [
        "fatal: unable to stat '.ipython/profile_default/history.sqlite-journal': Nincs ilyen f\u00e1jl vagy k\u00f6nyvt\u00e1r\r\n"
       ]
      }
     ]
    },
    {
     "cell_type": "code",
     "collapsed": false,
     "input": [
      "!git commit"
     ],
     "language": "python",
     "metadata": {},
     "outputs": [
      {
       "output_type": "stream",
       "stream": "stdout",
       "text": [
        "\u001b)0\u001b7\u001b[?47h\u001b[1;60r\u001b[m\u001b[4l\u001b[?1h\u001b=\u001b[?1h\u001b=\u001b[?1h\u001b=\u001b[m\u001b[m\u001b[m\u001b[H\u001b[2J\u001b[58;42H\u001b[7m[ F\u00e1jl beolvas\u00e1sa ]\r",
        "\u001b[55A\u001b[m"
       ]
      },
      {
       "output_type": "stream",
       "stream": "stdout",
       "text": [
        "\u001b[58;40H\u001b[7m[ 5589 sor beolvasva ]\r",
        "\u001b[55A\u001b[m\u001b[H\u001b[m\u001b[7m  GNU nano 2.5.3             F\u00e1jl: /home/totha/.git/COMMIT_EDITMSG                                   \u001b[4;1H\u001b[m# Please enter the commit message for your changes. Lines starting\r",
        "\u001b[1B# with '#' will be ignored, and an empty message aborts the commit.\r",
        "\u001b[1B# On branch master\r",
        "\u001b[1B#\u001b[1B\b# Initial commit\r",
        "\u001b[1B#\u001b[1B\b# Changes to be committed:\r",
        "\u001b[1B#\u001b[7Cnew file:   .ICEauthority\r",
        "\u001b[1B#\u001b[7Cnew file:   .Xauthority\r",
        "\u001b[1B#\u001b[7Cnew file:   .bash_history\r",
        "\u001b[1B#\u001b[7Cnew file:   .bash_logout\r",
        "\u001b[1B#\u001b[7Cnew file:   .bashrc\r",
        "\u001b[1B#\u001b[7Cnew file:   .cache/compizconfig-1/animation.pb\r",
        "\u001b[1B#\u001b[7Cnew file:   .cache/compizconfig-1/commands.pb\r",
        "\u001b[1B#\u001b[7Cnew file:   .cache/compizconfig-1/compiztoolbox.pb\r",
        "\u001b[1B#\u001b[7Cnew file:   .cache/compizconfig-1/composite.pb\r",
        "\u001b[1B#\u001b[7Cnew file:   .cache/compizconfig-1/copytex.pb\r",
        "\u001b[1B#\u001b[7Cnew file:   .cache/compizconfig-1/core.pb\r",
        "\u001b[1B#\u001b[7Cnew file:   .cache/compizconfig-1/decor.pb\r",
        "\u001b[1B#\u001b[7Cnew file:   .cache/compizconfig-1/expo.pb\r",
        "\u001b[1B#\u001b[7Cnew file:   .cache/compizconfig-1/ezoom.pb\r",
        "\u001b[1B#\u001b[7Cnew file:   .cache/compizconfig-1/fade.pb\r",
        "\u001b[1B#\u001b[7Cnew file:   .cache/compizconfig-1/gnomecompat.pb\r",
        "\u001b[1B#\u001b[7Cnew file:   .cache/compizconfig-1/grid.pb\r",
        "\u001b[1B#\u001b[7Cnew file:   .cache/compizconfig-1/imgpng.pb\r",
        "\u001b[1B#\u001b[7Cnew file:   .cache/compizconfig-1/matecompat.pb\r",
        "\u001b[1B#\u001b[7Cnew file:   .cache/compizconfig-1/mousepoll.pb\r",
        "\u001b[1B#\u001b[7Cnew file:   .cache/compizconfig-1/move.pb\r",
        "\u001b[1B#\u001b[7Cnew file:   .cache/compizconfig-1/opengl.pb\r",
        "\u001b[1B#\u001b[7Cnew file:   .cache/compizconfig-1/place.pb\r",
        "\u001b[1B#\u001b[7Cnew file:   .cache/compizconfig-1/regex.pb\r",
        "\u001b[1B#\u001b[7Cnew file:   .cache/compizconfig-1/resize.pb\r",
        "\u001b[1B#\u001b[7Cnew file:   .cache/compizconfig-1/scale.pb\r",
        "\u001b[1B#\u001b[7Cnew file:   .cache/compizconfig-1/session.pb\r",
        "\u001b[1B#\u001b[7Cnew file:   .cache/compizconfig-1/snap.pb\r",
        "\u001b[1B#\u001b[7Cnew file:   .cache/compizconfig-1/staticswitcher.pb\r",
        "\u001b[1B#\u001b[7Cnew file:   .cache/compizconfig-1/switcher.pb\r",
        "\u001b[1B#\u001b[7Cnew file:   .cache/compizconfig-1/unitymtgrabhandles.pb\r",
        "\u001b[1B#\u001b[7Cnew file:   .cache/compizconfig-1/unityshell.pb\r",
        "\u001b[1B#\u001b[7Cnew file:   .cache/compizconfig-1/vpswitch.pb\r",
        "\u001b[1B#\u001b[7Cnew file:   .cache/compizconfig-1/wall.pb\r",
        "\u001b[1B#\u001b[7Cnew file:   .cache/compizconfig-1/workarounds.pb\r",
        "\u001b[1B#\u001b[7Cnew file:   .cache/event-sound-cache.tdb.81c44b3a28e44209b90f2c5314c7db3f.x86_64-pc-linux-gnu\u001b[47;1H#\u001b[7Cnew file:   .cache/fontconfig/087e1975ba9a574b140bb1df193bf770-le64.cache-6\r",
        "\u001b[1B#\u001b[7Cnew file:   .cache/fontconfig/2bae36bb929c5b1290cc66cecf2b11b0-le64.cache-6\r",
        "\u001b[1B#\u001b[7Cnew file:   .cache/fontconfig/3830d5c3ddfd5cd38a049b759396e72e-le64.cache-6\r",
        "\u001b[1B#\u001b[7Cnew file:   .cache/fontconfig/573ec803664ed168555e0e8b6d0f0c7f-le64.cache-6\r",
        "\u001b[1B#\u001b[7Cnew file:   .cache/fontconfig/7ef2298fde41cc6eeb7af42e48b7d293-le64.cache-6\r",
        "\u001b[1B#\u001b[7Cnew file:   .cache/fontconfig/8a687c406b77f27d99abfeeba937fcce-le64.cache-6\r",
        "\u001b[1B#\u001b[7Cnew file:   .cache/fontconfig/CACHEDIR.TAG\r",
        "\u001b[1B#\u001b[7Cnew file:   .cache/fontconfig/a41116dafaf8b233ac2c61cb73f2ea5f-le64.cache-6\r",
        "\u001b[1B#\u001b[7Cnew file:   .cache/fontconfig/c277e94e32b20404286a1ddafa5a80f0-le64.cache-6\r",
        "\u001b[1B#\u001b[7Cnew file:   .cache/fontconfig/c4f8cd936e32aa63d90660cbbf4d74a0-le64.cache-6\r",
        "\u001b[1B#\u001b[7Cnew file:   .cache/fontconfig/cba07694886bf8bbc441deea9dc5842f-le64.cache-6\r",
        "\u001b[2B\u001b[7m^G\u001b[m S\u00fag\u00f3\u001b[7C\u001b[7m^O\u001b[m Ki\u00edr\u00e1s     \u001b[7m^W\u001b[m Keres\u00e9s    \u001b[7m^K\u001b[m Kiv\u00e1g\u00e1s    \u001b[7m^J\u001b[m Sorkiz\u00e1r\u00e1s \u001b[7m^C\u001b[m Poz\u00edci\u00f3    \u001b[7m^Y\u001b[m El\u0151z\u0151 old.\r",
        "\u001b[1B\u001b[7m^X\u001b[m Kil\u00e9p\u00e9s    \u001b[7m^R\u001b[m Beolvas\u00e1s  \u001b[7m^\\\u001b[m Csere\u001b[6C\u001b[7m^U\u001b[m Beilleszt\u00e9s\u001b[7m^T\u001b[m Helyes-e?  \u001b[7m^_\u001b[m Ugr\u00e1s sorra\u001b[7m^V\u001b[m K\u00f6v. old.\r",
        "\u001b[57A"
       ]
      }
     ]
    },
    {
     "cell_type": "markdown",
     "metadata": {},
     "source": [
      "a *git pull* friss\u00edti a saj\u00e1t k\u00f6nyvt\u00e1runkat a szerverr\u0151l, de ha nem akarjuk fel\u00fcl\u00edrni a saj\u00e1t m\u00f3dos\u00edt\u00e1sainkat, akkor haszn\u00e1ljuk a *git fetch* majd a *git diff master..projekt/master* parancsot. Ha megbizonyosodtunk d\u00f6nt\u00e9s\u00fcnkr\u0151l, a *git merge master projekt/master* egyes\u00edti nek\u00fcnk a kett\u0151t"
     ]
    },
    {
     "cell_type": "markdown",
     "metadata": {},
     "source": [
      "Elt\u00e9ved\u00e9s eset\u00e9n \u00fatbaigaz\u00edt\u00e1shoz haszn\u00e1ljuk a *git status* *git diff* *git diff --cached parancsokat*. az els\u0151 egy egyszer\u0171 st\u00e1tuszjelent\u00e9s, a m\u00e1sodik megmutatja, mi v\u00e1ltozott, de nem add-ol, a harmadik pedig megmutatja mi lesz *commit*olva."
     ]
    }
   ],
   "metadata": {}
  }
 ]
}